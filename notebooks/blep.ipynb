{
 "cells": [
  {
   "cell_type": "code",
   "execution_count": 56,
   "id": "7407f26c",
   "metadata": {},
   "outputs": [],
   "source": [
    "import sympy as sp"
   ]
  },
  {
   "cell_type": "code",
   "execution_count": 57,
   "id": "29e1352b",
   "metadata": {},
   "outputs": [],
   "source": [
    "x = sp.symbols('x')\n",
    "f01 = x**4/8-x**3/3+2*x/3-1/2\n",
    "f12 = -x**4/24+x**3/6-x**2/4+x/6-1/24\n",
    "fn01 = -x**4/8+x**3/6+x**2/4+x/6+1/24\n",
    "fn12 = x**4/24\n",
    "\n",
    "f12 = f12.subs(x,x-1)\n",
    "fn01 = fn01.subs(x,x+1)\n",
    "fn12 = fn12.subs(x,x+2)"
   ]
  },
  {
   "cell_type": "code",
   "execution_count": 58,
   "id": "733af754",
   "metadata": {},
   "outputs": [
    {
     "data": {
      "text/latex": [
       "$\\displaystyle \\frac{x^{4}}{24} + \\frac{x^{3}}{3} + x^{2} + \\frac{4 x}{3} + \\frac{2}{3}$"
      ],
      "text/plain": [
       "x**4/24 + x**3/3 + x**2 + 4*x/3 + 2/3"
      ]
     },
     "execution_count": 58,
     "metadata": {},
     "output_type": "execute_result"
    }
   ],
   "source": [
    "sp.expand(fn12)"
   ]
  },
  {
   "cell_type": "code",
   "execution_count": 59,
   "id": "5d6b2c5f",
   "metadata": {},
   "outputs": [
    {
     "name": "stdout",
     "output_type": "stream",
     "text": [
      "--- 受 P(2)=0, P'(2)=0 和单调性约束的最优 4 次多项式 (数值近似) ---\n",
      "P(x) ≈ -0.0153248731014979*x**4 + 0.157402789607197*x**3 - 0.576410049532422*x**2 + 0.907202662091257*x - 0.522789473286436\n",
      "\n",
      "--- 最优系数 (近似值) ---\n",
      "k4 ≈ -0.0153248731014979\n",
      "k3 ≈ 0.1574027896071969\n",
      "k2 ≈ -0.5764100495324217\n",
      "k1 ≈ 0.9072026620912570\n",
      "k0 ≈ -0.5227894732864360\n",
      "\n",
      "--- 验证端点约束 ---\n",
      "P(2) ≈ 0 (应为 0)\n",
      "P'(2) ≈ 0 (应为 0)\n",
      "最小均方误差 (MSE) ≈ 7.612548659063911e-05\n"
     ]
    }
   ],
   "source": [
    "import sympy\n",
    "import numpy as np\n",
    "from scipy.optimize import minimize, LinearConstraint\n",
    "\n",
    "x = sympy.symbols('x')\n",
    "f = sympy.Piecewise((f01, x < 1), (f12, x >= 1))\n",
    "\n",
    "# --- SymPy 阶段 (处理端点约束，建立目标函数) ---\n",
    "\n",
    "# 定义符号系数\n",
    "k4, k3, k2 = sympy.symbols('k4, k3, k2') # 3个待优化变量\n",
    "k1_sym, k0_sym = sympy.symbols('k1, k0') # 被消除的变量\n",
    "\n",
    "polynomial_base = k4*x**4 + k3*x**3 + k2*x**2 + k1_sym*x + k0_sym\n",
    "polynomial_prime_base = sympy.diff(polynomial_base, x)\n",
    "\n",
    "# 1. 定义端点约束方程 P(2)=0 和 P'(2)=0\n",
    "eq_P2 = sympy.Eq(polynomial_base.subs(x, 2), 0)\n",
    "eq_Pprime2 = sympy.Eq(polynomial_prime_base.subs(x, 2), 0)\n",
    "\n",
    "# 2. 从约束中解出 k0 和 k1 的表达式（关于 k4, k3, k2）\n",
    "constraints_solutions = sympy.solve([eq_P2, eq_Pprime2], (k0_sym, k1_sym))\n",
    "k0_expr = constraints_solutions[k0_sym]\n",
    "k1_expr = constraints_solutions[k1_sym]\n",
    "\n",
    "# 3. 构造只依赖于 k4, k3, k2 的多项式\n",
    "polynomial_sym = polynomial_base.subs({k0_sym: k0_expr, k1_sym: k1_expr})\n",
    "polynomial_prime_sym = sympy.diff(polynomial_sym, x) # 新的导数表达式\n",
    "\n",
    "# 4. 计算总误差 (MSE)\n",
    "def mse_integrand_sym(polynomial, f):\n",
    "    return (polynomial - f)**2\n",
    "\n",
    "error_sym = sympy.integrate(mse_integrand_sym(polynomial_sym, f), (x, 0, 2))\n",
    "\n",
    "# --- SciPy 阶段 (进行数值优化) ---\n",
    "\n",
    "# 1. 定义目标函数\n",
    "k_syms = [k4, k3, k2] # SciPy 优化的变量顺序\n",
    "mse_func = sympy.lambdify(k_syms, error_sym, 'numpy')\n",
    "\n",
    "def objective(k):\n",
    "    # k = [k4, k3, k2]\n",
    "    return mse_func(*k)\n",
    "\n",
    "# 2. 定义单调性约束 P'(x) >= 0\n",
    "N = 500\n",
    "points = np.linspace(0, 2, N)\n",
    "monotone_constraints = []\n",
    "\n",
    "for x_val in points:\n",
    "    # 约束表达式：P'(x_val) >= 0 (现在 P' 依赖于 k4, k3, k2)\n",
    "    constraint_expr = polynomial_prime_sym.subs(x, x_val)\n",
    "    \n",
    "    # 提取系数，形式为：c4*k4 + c3*k3 + c2*k2\n",
    "    coeffs = [constraint_expr.coeff(k) for k in k_syms]\n",
    "    \n",
    "    # LinearConstraint(A, lb, ub): A.dot(k) >= 0\n",
    "    monotone_constraints.append(LinearConstraint(\n",
    "        np.array(coeffs, dtype=float),\n",
    "        0, # lb (下界)\n",
    "        np.inf # ub (上界)\n",
    "    ))\n",
    "\n",
    "# 3. 运行优化器\n",
    "# 初始猜测：我们使用之前无约束 k4, k3, k2 的近似值\n",
    "# 无约束解：k4 ≈ 0.10, k3 ≈ -0.09, k2 ≈ 0.32\n",
    "initial_guess = np.array([0.1, -0.1, 0.3], dtype=float)\n",
    "\n",
    "result = minimize(\n",
    "    objective,\n",
    "    initial_guess,\n",
    "    method='SLSQP',\n",
    "    constraints=monotone_constraints, # 只传入单调性约束\n",
    "    options={'disp': False, 'maxiter': 1000}\n",
    ")\n",
    "\n",
    "# 4. 提取结果\n",
    "if result.success:\n",
    "    k_optimized = result.x\n",
    "    k4_opt, k3_opt, k2_opt = k_optimized\n",
    "    \n",
    "    # 计算被消除的 k1 和 k0 的值\n",
    "    k_subs_dict = {k4: k4_opt, k3: k3_opt, k2: k2_opt}\n",
    "    k1_opt = k1_expr.subs(k_subs_dict).evalf()\n",
    "    k0_opt = k0_expr.subs(k_subs_dict).evalf()\n",
    "    \n",
    "    # 构造最终多项式 (数值近似)\n",
    "    polynomial_final = (\n",
    "        k4_opt * x**4 + k3_opt * x**3 + k2_opt * x**2 + k1_opt * x + k0_opt\n",
    "    )\n",
    "    \n",
    "    print(\"--- 受 P(2)=0, P'(2)=0 和单调性约束的最优 4 次多项式 (数值近似) ---\")\n",
    "    print(f\"P(x) ≈ {polynomial_final}\")\n",
    "    print(\"\\n--- 最优系数 (近似值) ---\")\n",
    "    print(f\"k4 ≈ {k4_opt:.16f}\")\n",
    "    print(f\"k3 ≈ {k3_opt:.16f}\")\n",
    "    print(f\"k2 ≈ {k2_opt:.16f}\")\n",
    "    print(f\"k1 ≈ {k1_opt:.16f}\")\n",
    "    print(f\"k0 ≈ {k0_opt:.16f}\")\n",
    "    \n",
    "    # 验证约束\n",
    "    P2_check = polynomial_final.subs(x, 2).evalf()\n",
    "    Pprime2_check = sympy.diff(polynomial_final, x).subs(x, 2).evalf()\n",
    "    \n",
    "    print(f\"\\n--- 验证端点约束 ---\")\n",
    "    print(f\"P(2) ≈ {P2_check} (应为 0)\")\n",
    "    print(f\"P'(2) ≈ {Pprime2_check} (应为 0)\")\n",
    "    print(f\"最小均方误差 (MSE) ≈ {result.fun}\")\n",
    "else:\n",
    "    print(f\"优化未成功完成: {result.message}\")"
   ]
  },
  {
   "cell_type": "markdown",
   "id": "f1250237",
   "metadata": {},
   "source": [
    "polyblep很好，但我不满足于只有两个采样的polybelp。\n",
    "通过一篇论文我得知可以使用B-Spline构造3个、4个采样长的polybelp。然而它包含太多的分支，在不做任何优化下有五个分支，实在是不适合实时规则。通过构造只有正数的多项式B(x)再利用一些max min小技巧以及simd mask技巧可以消除分支，这很好，但我还是不满足。\n",
    "我查看过monark(reaktor上一个合成器)的corecell，有一个长达八个采样的blep模块，并且由一个7阶多项式直接计算。我开始思考如何也能达到这样的方法。\n",
    "\n",
    "在振荡器中，我们通过使用phase[0..1]和phase_inc = f/fs来计算振荡器相位。简单的思考，我们知道计算1/phase_inc次就能完成一个周期，那么一个周期的长度在离散时间就是Td = fs/f(采样数)，在连续时间即为Ta = Td/fs = 1/f(秒)，这可以看成我们正在采样一个f频率的连续波形，这也是为什么naive振荡器会出现混叠的原因。\n",
    "接下来是blep在离散和连续的长度。众所周知，polyblep中有一个计算为phase/dt，其中dt=phase_inc。而phase = dt * n，n=[0..fs/f]，忘掉这些数字，从phase=0开始，只需要计算一次phase就会到达dt从而到达blep的末尾，即那个\n",
    "```\n",
    "if (phase_ < dt) {\n",
    "    ...blep code...(假设-1..0)\n",
    "}\n",
    "```\n",
    "分支的边界\n",
    "而如果是两个采样的blep，例如B-spline，则naive代码通常为\n",
    "```\n",
    "if (phase_ < dt) {\n",
    "    ...blep code...(假设-1..-0)\n",
    "}\n",
    "else if (phase_ < dt * 2) {\n",
    "    ...blep code...(假设-2..-1)\n",
    "}\n",
    "```\n",
    "从这里我们就能得知blep的离散长度就是它的采样长度，最常见的polyblep是一个长度为2采样的三角形窗，4采样B-spline polyblep(-2..2)是一个长度为4采样的多项式窗。从而得知一半的连续域长度为1/fs秒和2/fs秒。\n",
    "我们知道在滤波器设计里有许多的窗函数使用，我们可以设计任意采样长的blep使用，只需要使用任意多项式逼近算法(推荐lolremez程序)即可(什么，直接使用原始超越函数吗?)。\n",
    "现在让我们制作一个4采样的hann窗(使用下面的公式计算，x<-2和x>2均为0)"
   ]
  },
  {
   "cell_type": "code",
   "execution_count": 60,
   "id": "cf03477e",
   "metadata": {},
   "outputs": [
    {
     "data": {
      "text/latex": [
       "$\\displaystyle \\frac{\\cos{\\left(\\frac{\\pi x}{2} \\right)}}{4} + \\frac{1}{4}$"
      ],
      "text/plain": [
       "cos(pi*x/2)/4 + 1/4"
      ]
     },
     "execution_count": 60,
     "metadata": {},
     "output_type": "execute_result"
    }
   ],
   "source": [
    "import sympy as sp\n",
    "x = sp.Symbol('x')\n",
    "Impluse = (1+sp.cos(sp.pi*x/2))/4\n",
    "Step = sp.integrate(Impluse, (x, -2, x))\n",
    "Impluse"
   ]
  },
  {
   "cell_type": "markdown",
   "id": "ee6b2505",
   "metadata": {},
   "source": [
    "现在让我们使用任何符号计算软件或者desmos计算这个窗的连续傅里叶变换\n",
    "我们可以看到在0~0.5之间递减到-inf dB，回想一下blep的连续长度是4/fs(秒)，而计算时的连续长度是4(秒),blep被压缩了1/fs倍，那么傅里叶变换则扩展fs倍。根据这一点，我们就可以知道0~fs/2之间递减，然后继续递减下去，而fs/2之后的频率会全部混叠回0~fs之间，所以我们要尽量减少0.5之后的频率内容。\n",
    "另外一点，blep也会衰减0~fs/2之间的内容，所以我们应该选择滚降速度快的窗作为基准。\n",
    "例如如果使用4点的hann就会导致高频被大规模衰减，或者你也可以选择动态改变dt参数，缩放dt为原来的s倍，这会导致blep的截止频率减小s倍从而抑制更多的高频。\n",
    "https://www.desmos.com/calculator/isemvqu5bv?lang=zh-CN"
   ]
  },
  {
   "cell_type": "markdown",
   "id": "0d69025a",
   "metadata": {},
   "source": [
    "让我们创建一个6采样长的Blackman–Nuttall，有着100dB的伪影抑制，在奈奎斯特频率处衰减36.69dB\n",
    "https://www.desmos.com/calculator/mubdmjnyil?lang=zh-CN"
   ]
  },
  {
   "cell_type": "code",
   "execution_count": 61,
   "id": "57892443",
   "metadata": {},
   "outputs": [
    {
     "data": {
      "text/latex": [
       "$\\displaystyle 0.166666666666667 x + \\frac{0.672719819110907 \\sin{\\left(\\frac{\\pi x}{3} \\right)}}{\\pi} + \\frac{0.0939262240502071 \\sin{\\left(\\frac{2 \\pi x}{3} \\right)}}{\\pi} + \\frac{0.00487790142101867 \\sin{\\left(\\pi x \\right)}}{\\pi} - 0.5$"
      ],
      "text/plain": [
       "0.166666666666667*x + 0.672719819110907*sin(pi*x/3)/pi + 0.0939262240502071*sin(2*pi*x/3)/pi + 0.00487790142101867*sin(pi*x)/pi - 0.5"
      ]
     },
     "execution_count": 61,
     "metadata": {},
     "output_type": "execute_result"
    }
   ],
   "source": [
    "import sympy as sp\n",
    "a0 = 0.3635819\n",
    "a1 = 0.4891775\n",
    "a2 = 0.1365995\n",
    "a3 = 0.0106411\n",
    "x = sp.Symbol('x')\n",
    "Impluse = a0 - a1*sp.cos(sp.pi*(x/3+1)) + a2*sp.cos(sp.pi*2*(x/3+1)) - a3*sp.cos(sp.pi*3*(x/3+1))\n",
    "Normalize = sp.integrate(Impluse, (x,-3,3))\n",
    "Impluse = Impluse / Normalize\n",
    "Step = sp.integrate(Impluse, (x,-3,x))\n",
    "Positive_Blep = Step - 1\n",
    "sp.expand(Positive_Blep)"
   ]
  }
 ],
 "metadata": {
  "kernelspec": {
   "display_name": "Python 3",
   "language": "python",
   "name": "python3"
  },
  "language_info": {
   "codemirror_mode": {
    "name": "ipython",
    "version": 3
   },
   "file_extension": ".py",
   "mimetype": "text/x-python",
   "name": "python",
   "nbconvert_exporter": "python",
   "pygments_lexer": "ipython3",
   "version": "3.11.9"
  }
 },
 "nbformat": 4,
 "nbformat_minor": 5
}
